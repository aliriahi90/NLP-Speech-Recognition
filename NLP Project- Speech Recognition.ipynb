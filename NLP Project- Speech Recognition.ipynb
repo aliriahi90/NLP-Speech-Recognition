{
 "cells": [
  {
   "cell_type": "markdown",
   "metadata": {},
   "source": [
    "# Speech Recognition"
   ]
  },
  {
   "cell_type": "code",
   "execution_count": 1,
   "metadata": {},
   "outputs": [
    {
     "name": "stderr",
     "output_type": "stream",
     "text": [
      "paramiko missing, opening SSH/SCP/SFTP paths will be disabled.  `pip install paramiko` to suppress\n"
     ]
    },
    {
     "name": "stdout",
     "output_type": "stream",
     "text": [
      "Wall time: 313 ms\n"
     ]
    }
   ],
   "source": [
    "%%time \n",
    "import locale\n",
    "import glob\n",
    "import os.path\n",
    "import requests\n",
    "import tarfile\n",
    "import sys\n",
    "import codecs\n",
    "from smart_open import smart_open\n",
    "import re"
   ]
  },
  {
   "cell_type": "code",
   "execution_count": 6,
   "metadata": {},
   "outputs": [],
   "source": [
    "\n",
    "dirname = 'aclImdb'\n",
    "filename = 'aclImdb_v1.tar.gz'\n",
    "#locale.setlocale(locale.LC_ALL, 'C')\n",
    "all_lines = []\n",
    "\n",
    "if sys.version > '3':\n",
    "    control_chars = [chr(0x85)]\n",
    "else:\n",
    "    control_chars = [unichr(0x85)]"
   ]
  },
  {
   "cell_type": "code",
   "execution_count": 5,
   "metadata": {},
   "outputs": [
    {
     "ename": "ReadError",
     "evalue": "file could not be opened successfully",
     "output_type": "error",
     "traceback": [
      "\u001b[1;31m---------------------------------------------------------------------------\u001b[0m",
      "\u001b[1;31mReadError\u001b[0m                                 Traceback (most recent call last)",
      "\u001b[1;32m<ipython-input-5-a2a443ad2b47>\u001b[0m in \u001b[0;36m<module>\u001b[1;34m()\u001b[0m\n\u001b[0;32m     18\u001b[0m                 \u001b[0mf\u001b[0m\u001b[1;33m.\u001b[0m\u001b[0mwrite\u001b[0m\u001b[1;33m(\u001b[0m\u001b[0mr\u001b[0m\u001b[1;33m.\u001b[0m\u001b[0mcontent\u001b[0m\u001b[1;33m)\u001b[0m\u001b[1;33m\u001b[0m\u001b[0m\n\u001b[0;32m     19\u001b[0m         \u001b[1;31m# if error here, try `tar xfz aclImdb_v1.tar.gz` outside notebook, then re-run this cell\u001b[0m\u001b[1;33m\u001b[0m\u001b[1;33m\u001b[0m\u001b[0m\n\u001b[1;32m---> 20\u001b[1;33m         \u001b[0mtar\u001b[0m \u001b[1;33m=\u001b[0m \u001b[0mtarfile\u001b[0m\u001b[1;33m.\u001b[0m\u001b[0mopen\u001b[0m\u001b[1;33m(\u001b[0m\u001b[0mfilename\u001b[0m\u001b[1;33m,\u001b[0m \u001b[0mmode\u001b[0m\u001b[1;33m=\u001b[0m\u001b[1;34m'r'\u001b[0m\u001b[1;33m)\u001b[0m\u001b[1;33m\u001b[0m\u001b[0m\n\u001b[0m\u001b[0;32m     21\u001b[0m         \u001b[0mtar\u001b[0m\u001b[1;33m.\u001b[0m\u001b[0mextractall\u001b[0m\u001b[1;33m(\u001b[0m\u001b[1;33m)\u001b[0m\u001b[1;33m\u001b[0m\u001b[0m\n\u001b[0;32m     22\u001b[0m         \u001b[0mtar\u001b[0m\u001b[1;33m.\u001b[0m\u001b[0mclose\u001b[0m\u001b[1;33m(\u001b[0m\u001b[1;33m)\u001b[0m\u001b[1;33m\u001b[0m\u001b[0m\n",
      "\u001b[1;32m~\\Anaconda3\\lib\\tarfile.py\u001b[0m in \u001b[0;36mopen\u001b[1;34m(cls, name, mode, fileobj, bufsize, **kwargs)\u001b[0m\n\u001b[0;32m   1572\u001b[0m                         \u001b[0mfileobj\u001b[0m\u001b[1;33m.\u001b[0m\u001b[0mseek\u001b[0m\u001b[1;33m(\u001b[0m\u001b[0msaved_pos\u001b[0m\u001b[1;33m)\u001b[0m\u001b[1;33m\u001b[0m\u001b[0m\n\u001b[0;32m   1573\u001b[0m                     \u001b[1;32mcontinue\u001b[0m\u001b[1;33m\u001b[0m\u001b[0m\n\u001b[1;32m-> 1574\u001b[1;33m             \u001b[1;32mraise\u001b[0m \u001b[0mReadError\u001b[0m\u001b[1;33m(\u001b[0m\u001b[1;34m\"file could not be opened successfully\"\u001b[0m\u001b[1;33m)\u001b[0m\u001b[1;33m\u001b[0m\u001b[0m\n\u001b[0m\u001b[0;32m   1575\u001b[0m \u001b[1;33m\u001b[0m\u001b[0m\n\u001b[0;32m   1576\u001b[0m         \u001b[1;32melif\u001b[0m \u001b[1;34m\":\"\u001b[0m \u001b[1;32min\u001b[0m \u001b[0mmode\u001b[0m\u001b[1;33m:\u001b[0m\u001b[1;33m\u001b[0m\u001b[0m\n",
      "\u001b[1;31mReadError\u001b[0m: file could not be opened successfully"
     ]
    }
   ],
   "source": [
    "# Convert text to lower-case and strip punctuation/symbols from words\n",
    "def normalize_text(text):\n",
    "    norm_text = text.lower()\n",
    "    # Replace breaks with spaces\n",
    "    norm_text = norm_text.replace('<br />', ' ')\n",
    "    # Pad punctuation with spaces on both sides\n",
    "    norm_text = re.sub(r\"([\\.\\\",\\(\\)!\\?;:])\", \" \\\\1 \", norm_text)\n",
    "    return norm_text\n",
    "\n",
    "if not os.path.isfile('aclImdb/alldata-id.txt'):\n",
    "    if not os.path.isdir(dirname):\n",
    "        if not os.path.isfile(filename):\n",
    "            # Download IMDB archive\n",
    "            print(\"Downloading IMDB archive...\")\n",
    "            url = u'http://ai.stanford.edu/~amaas/data/sentiment/' + filename\n",
    "            r = requests.get(url)\n",
    "            with smart_open(filename, 'wb') as f:\n",
    "                f.write(r.content)\n",
    "        # if error here, try `tar xfz aclImdb_v1.tar.gz` outside notebook, then re-run this cell\n",
    "        tar = tarfile.open(filename, mode='r')\n",
    "        tar.extractall()\n",
    "        tar.close()\n",
    "    else:\n",
    "        print(\"IMDB archive directory already available without download.\")\n",
    "\n",
    "    # Collect & normalize test/train data\n",
    "    print(\"Cleaning up dataset...\")\n",
    "    folders = ['train/pos', 'train/neg', 'test/pos', 'test/neg', 'train/unsup']\n",
    "    for fol in folders:\n",
    "        temp = u''\n",
    "        newline = \"\\n\".encode(\"utf-8\")\n",
    "        output = fol.replace('/', '-') + '.txt'\n",
    "        # Is there a better pattern to use?\n",
    "        txt_files = glob.glob(os.path.join(dirname, fol, '*.txt'))\n",
    "        print(\" %s: %i files\" % (fol, len(txt_files)))\n",
    "        with smart_open(os.path.join(dirname, output), \"wb\") as n:\n",
    "            for i, txt in enumerate(txt_files):\n",
    "                with smart_open(txt, \"rb\") as t:\n",
    "                    one_text = t.read().decode(\"utf-8\")\n",
    "                    for c in control_chars:\n",
    "                        one_text = one_text.replace(c, ' ')\n",
    "                    one_text = normalize_text(one_text)\n",
    "                    all_lines.append(one_text)\n",
    "                    n.write(one_text.encode(\"utf-8\"))\n",
    "                    n.write(newline)\n",
    "\n",
    "    # Save to disk for instant re-use on any future runs\n",
    "    with smart_open(os.path.join(dirname, 'alldata-id.txt'), 'wb') as f:\n",
    "        for idx, line in enumerate(all_lines):\n",
    "            num_line = u\"_*{0} {1}\\n\".format(idx, line)\n",
    "            f.write(num_line.encode(\"utf-8\"))\n",
    "\n",
    "assert os.path.isfile(\"aclImdb/alldata-id.txt\"), \"alldata-id.txt unavailable\"\n",
    "print(\"Success, alldata-id.txt is available for next steps.\")"
   ]
  },
  {
   "cell_type": "code",
   "execution_count": null,
   "metadata": {},
   "outputs": [],
   "source": []
  },
  {
   "cell_type": "code",
   "execution_count": 2,
   "metadata": {},
   "outputs": [],
   "source": [
    "dirname = 'aclImdb'\n",
    "filename = 'aclImdb_v1.tar.gz'\n",
    "#locale.setlocale(locale.LC_ALL, 'C')\n",
    "all_lines = []\n",
    "\n",
    "if sys.version > '3':\n",
    "    control_chars = [chr(0x85)]\n",
    "else:\n",
    "    control_chars = [unichr(0x85)]\n"
   ]
  },
  {
   "cell_type": "code",
   "execution_count": 109,
   "metadata": {},
   "outputs": [
    {
     "data": {
      "text/plain": [
       "['Microsoft Sound Mapper - Input',\n",
       " 'Internal Microphone (Conexant I',\n",
       " 'Microsoft Sound Mapper - Output',\n",
       " 'Speakers (Conexant ISST Audio)']"
      ]
     },
     "execution_count": 109,
     "metadata": {},
     "output_type": "execute_result"
    }
   ],
   "source": [
    "sr.Microphone.list_microphone_names()"
   ]
  },
  {
   "cell_type": "code",
   "execution_count": 110,
   "metadata": {},
   "outputs": [],
   "source": [
    "import speech_recognition as sr \n",
    "  \n",
    "#enter the name of usb microphone that you found \n",
    "#using lsusb \n",
    "#the following name is only used as an example \n",
    "#mic_name = \"USB Device 0x46d:0x825: Audio (hw:1, 0)\"\n",
    "mic_name = 'Internal Microphone (Conexant I'\n",
    "#Sample rate is how often values are recorded \n",
    "sample_rate = 48000\n",
    "#Chunk is like a buffer. It stores 2048 samples (bytes of data) \n",
    "#here.  \n",
    "#it is advisable to use powers of 2 such as 1024 or 2048 \n",
    "chunk_size = 2048\n",
    "#Initialize the recognizer \n",
    "r = sr.Recognizer() \n",
    "dir_data = ['Take me home','What is traffic like on the way home','Go to'\n",
    "'Find directions to.','How do I get to ?', 'give me the direction of'\n",
    ",'Find out how long until you arrive.']\n",
    "\n",
    "loc_data=['Where is','Where is the nearest','give me the location of','find me the location of']"
   ]
  },
  {
   "cell_type": "code",
   "execution_count": 111,
   "metadata": {},
   "outputs": [],
   "source": [
    "#generate a list of all audio cards/microphones \n",
    "mic_list = sr.Microphone.list_microphone_names() "
   ]
  },
  {
   "cell_type": "code",
   "execution_count": 112,
   "metadata": {},
   "outputs": [],
   "source": [
    "#the following loop aims to set the device ID of the mic that \n",
    "#we specifically want to use to avoid ambiguity. \n",
    "for i, microphone_name in enumerate(mic_list): \n",
    "    if microphone_name == mic_name: \n",
    "        device_id = i "
   ]
  },
  {
   "cell_type": "code",
   "execution_count": null,
   "metadata": {},
   "outputs": [],
   "source": [
    "##Opening in Internet Explorer"
   ]
  },
  {
   "cell_type": "code",
   "execution_count": 206,
   "metadata": {},
   "outputs": [
    {
     "name": "stdout",
     "output_type": "stream",
     "text": [
      "Say Something\n",
      "you said: how's the weather\n",
      "[\"how's the weather\"]\n"
     ]
    }
   ],
   "source": [
    "#use the microphone as source for input. Here, we also specify  \n",
    "#which device ID to specifically look for incase the microphone  \n",
    "#is not working, an error will pop up saying \"device_id undefined\" \n",
    "with sr.Microphone(device_index = device_id, sample_rate = sample_rate,  \n",
    "                        chunk_size = chunk_size) as source: \n",
    "    #wait for a second to let the recognizer adjust the  \n",
    "    #energy threshold based on the surrounding noise level \n",
    "    r.adjust_for_ambient_noise(source) \n",
    "    print (\"Say Something\")\n",
    "    #listens for the user's input \n",
    "    audio = r.listen(source) \n",
    "          \n",
    "    try: \n",
    "        text = r.recognize_google(audio) \n",
    "        print (\"you said: \" + text) \n",
    "      \n",
    "    #error occurs when google could not understand what was said \n",
    "      \n",
    "    except sr.UnknownValueError: \n",
    "        print(\"Google Speech Recognition could not understand audio\") \n",
    "      \n",
    "    except sr.RequestError as e: \n",
    "        print(\"Could not request results from Google Speech Recognition service; {0}\".format(e)) \n",
    "        \n",
    "import webbrowser\n",
    "#search_terms = []\n",
    "commands=tokenize.sent_tokenize(text)\n",
    "print(commands)\n",
    "search_terms = commands\n",
    "# ... construct your list of search terms ...\n",
    "\n",
    "for term in search_terms:\n",
    "    url = \"https://www.google.com.tr/search?q={}\".format(term)\n",
    "    webbrowser.open_new_tab(url)"
   ]
  },
  {
   "cell_type": "code",
   "execution_count": null,
   "metadata": {},
   "outputs": [],
   "source": [
    "##Opening in Google Chrome"
   ]
  },
  {
   "cell_type": "code",
   "execution_count": 122,
   "metadata": {},
   "outputs": [
    {
     "name": "stdout",
     "output_type": "stream",
     "text": [
      "Say Something\n",
      "you said: hello\n",
      "['hello']\n"
     ]
    }
   ],
   "source": [
    "#use the microphone as source for input. Here, we also specify  \n",
    "#which device ID to specifically look for incase the microphone  \n",
    "#is not working, an error will pop up saying \"device_id undefined\" \n",
    "with sr.Microphone(device_index = device_id, sample_rate = sample_rate,  \n",
    "                        chunk_size = chunk_size) as source: \n",
    "    #wait for a second to let the recognizer adjust the  \n",
    "    #energy threshold based on the surrounding noise level \n",
    "    r.adjust_for_ambient_noise(source) \n",
    "    print (\"Say Something\")\n",
    "    #listens for the user's input \n",
    "    audio = r.listen(source) \n",
    "          \n",
    "    try: \n",
    "        text = r.recognize_google(audio) \n",
    "        print (\"you said: \" + text) \n",
    "      \n",
    "    #error occurs when google could not understand what was said \n",
    "      \n",
    "    except sr.UnknownValueError: \n",
    "        print(\"Google Speech Recognition could not understand audio\") \n",
    "      \n",
    "    except sr.RequestError as e: \n",
    "        print(\"Could not request results from Google Speech Recognition service; {0}\".format(e)) \n",
    "        \n",
    "import webbrowser\n",
    "#search_terms = []\n",
    "commands=tokenize.sent_tokenize(text)\n",
    "print(commands)\n",
    "search_terms = commands\n",
    "# ... construct your list of search terms ...\n",
    "\n",
    "for term in search_terms:\n",
    "    url = \"https://www.google.com.tr/search?q={}\".format(term)\n",
    "    chrome_browser = webbrowser.get(\"C:/Program Files (x86)/Google/Chrome/Application/chrome.exe %s\")\n",
    "    chrome_browser.open_new_tab(url) "
   ]
  },
  {
   "cell_type": "code",
   "execution_count": null,
   "metadata": {},
   "outputs": [],
   "source": [
    "##Opening the Google Maps"
   ]
  },
  {
   "cell_type": "code",
   "execution_count": 126,
   "metadata": {},
   "outputs": [
    {
     "name": "stdout",
     "output_type": "stream",
     "text": [
      "Say Something\n",
      "you said: hello\n",
      "['hello']\n"
     ]
    }
   ],
   "source": [
    "#use the microphone as source for input. Here, we also specify  \n",
    "#which device ID to specifically look for incase the microphone  \n",
    "#is not working, an error will pop up saying \"device_id undefined\" \n",
    "with sr.Microphone(device_index = device_id, sample_rate = sample_rate,  \n",
    "                        chunk_size = chunk_size) as source: \n",
    "    #wait for a second to let the recognizer adjust the  \n",
    "    #energy threshold based on the surrounding noise level \n",
    "    r.adjust_for_ambient_noise(source) \n",
    "    print (\"Say Something\")\n",
    "    #listens for the user's input \n",
    "    audio = r.listen(source) \n",
    "          \n",
    "    try: \n",
    "        text = r.recognize_google(audio) \n",
    "        print (\"you said: \" + text) \n",
    "      \n",
    "    #error occurs when google could not understand what was said \n",
    "      \n",
    "    except sr.UnknownValueError: \n",
    "        print(\"Google Speech Recognition could not understand audio\") \n",
    "      \n",
    "    except sr.RequestError as e: \n",
    "        print(\"Could not request results from Google Speech Recognition service; {0}\".format(e)) \n",
    "        \n",
    "import webbrowser\n",
    "#search_terms = []\n",
    "commands=tokenize.sent_tokenize(text)\n",
    "print(commands)\n",
    "search_terms = commands\n",
    "# ... construct your list of search terms ...\n",
    "\n",
    "for term in search_terms:\n",
    "    url = \"https://www.google.com.tr/search?q={}\".format(term)\n",
    "    #chrome_browser = webbrowser.get(\"C:/Program Files (x86)/Google/Chrome/Application/chrome.exe %s\")\n",
    "    #chrome_browser.open('https://www.google.com/maps/place/' + term) \n",
    "    #webbrowser.open_new_tab(url)\n",
    "    webbrowser.open('https://www.google.com/maps/place/' + term)"
   ]
  },
  {
   "cell_type": "code",
   "execution_count": null,
   "metadata": {},
   "outputs": [],
   "source": [
    "##Opening the Direction"
   ]
  },
  {
   "cell_type": "code",
   "execution_count": 139,
   "metadata": {},
   "outputs": [
    {
     "data": {
      "text/plain": [
       "-96.8346"
      ]
     },
     "execution_count": 139,
     "metadata": {},
     "output_type": "execute_result"
    }
   ],
   "source": [
    "import requests\n",
    "import json\n",
    "\n",
    "send_url = \"http://api.ipstack.com/check?access_key=814db9dd846bf862427170227e048e54\"\n",
    "geo_req = requests.get(send_url)\n",
    "geo_json = json.loads(geo_req.text)\n",
    "lat = geo_json['latitude']\n",
    "long = geo_json['longitude']\n"
   ]
  },
  {
   "cell_type": "code",
   "execution_count": 137,
   "metadata": {},
   "outputs": [
    {
     "name": "stdout",
     "output_type": "stream",
     "text": [
      "[32.9689, -96.7991]\n"
     ]
    }
   ],
   "source": [
    "import geocoder\n",
    "g = geocoder.ip('me')\n",
    "my_loc=g.latlng\n",
    "print(my_loc)\n",
    "lat=my_loc[0]\n",
    "long=my_loc[1]"
   ]
  },
  {
   "cell_type": "code",
   "execution_count": 136,
   "metadata": {},
   "outputs": [
    {
     "name": "stdout",
     "output_type": "stream",
     "text": [
      "Say Something\n",
      "you said: go to University of Texas at Dallas\n",
      "['go to University of Texas at Dallas']\n"
     ]
    }
   ],
   "source": [
    "#use the microphone as source for input. Here, we also specify  \n",
    "#which device ID to specifically look for incase the microphone  \n",
    "#is not working, an error will pop up saying \"device_id undefined\" \n",
    "with sr.Microphone(device_index = device_id, sample_rate = sample_rate,  \n",
    "                        chunk_size = chunk_size) as source: \n",
    "    #wait for a second to let the recognizer adjust the  \n",
    "    #energy threshold based on the surrounding noise level \n",
    "    r.adjust_for_ambient_noise(source) \n",
    "    print (\"Say Something\")\n",
    "    #listens for the user's input \n",
    "    audio = r.listen(source) \n",
    "          \n",
    "    try: \n",
    "        text = r.recognize_google(audio) \n",
    "        print (\"you said: \" + text) \n",
    "      \n",
    "    #error occurs when google could not understand what was said \n",
    "      \n",
    "    except sr.UnknownValueError: \n",
    "        print(\"Google Speech Recognition could not understand audio\") \n",
    "      \n",
    "    except sr.RequestError as e: \n",
    "        print(\"Could not request results from Google Speech Recognition service; {0}\".format(e)) \n",
    "    \n",
    "import webbrowser\n",
    "#search_terms = []\n",
    "commands=tokenize.sent_tokenize(text)\n",
    "print(commands)\n",
    "search_terms = commands\n",
    "# ... construct your list of search terms ...\n",
    "for term in search_terms:\n",
    "    webbrowser.open('https://www.google.com/maps/dir/{},{}/'.format(lat,long)+ term)\n",
    "    webbrowser.open('https://www.google.com/maps/dir/33.0069467,-96.8201528/'.format(lat,long)+ term)\n",
    "    \n",
    "#webbrowser.open('https://www.google.com/maps/place/' + map_string) "
   ]
  },
  {
   "cell_type": "code",
   "execution_count": null,
   "metadata": {},
   "outputs": [],
   "source": [
    "##Combined"
   ]
  },
  {
   "cell_type": "code",
   "execution_count": 144,
   "metadata": {},
   "outputs": [
    {
     "name": "stdout",
     "output_type": "stream",
     "text": [
      "['It', 'is', 'a', 'cat']\n",
      "12\n"
     ]
    }
   ],
   "source": [
    "from nltk.tokenize import word_tokenize\n",
    "text1='It is a cat'\n",
    "tokens = word_tokenize(text1)\n",
    "print(tokens)\n",
    "location_commands=['where is', 'location', 'go to', 'direction']\n",
    "def similar (a,b):\n",
    "    for i in a:\n",
    "        if i in b:\n",
    "            return True\n",
    "    return False \n",
    "if similar(tokens,location_commands)==True:\n",
    "    print(11)\n",
    "else:\n",
    "    print(12)"
   ]
  },
  {
   "cell_type": "code",
   "execution_count": 171,
   "metadata": {},
   "outputs": [
    {
     "name": "stdout",
     "output_type": "stream",
     "text": [
      "Say Something\n",
      "you said: how's the weather in Dallas\n",
      "[\"how's the weather in Dallas\"]\n"
     ]
    }
   ],
   "source": [
    "#use the microphone as source for input. Here, we also specify  \n",
    "#which device ID to specifically look for incase the microphone  \n",
    "#is not working, an error will pop up saying \"device_id undefined\" \n",
    "with sr.Microphone(device_index = device_id, sample_rate = sample_rate,  \n",
    "                        chunk_size = chunk_size) as source: \n",
    "    #wait for a second to let the recognizer adjust the  \n",
    "    #energy threshold based on the surrounding noise level \n",
    "    r.adjust_for_ambient_noise(source) \n",
    "    print (\"Say Something\")\n",
    "    #listens for the user's input \n",
    "    audio = r.listen(source) \n",
    "          \n",
    "    try: \n",
    "        text = r.recognize_google(audio) \n",
    "        print (\"you said: \" + text) \n",
    "      \n",
    "    #error occurs when google could not understand what was said \n",
    "      \n",
    "    except sr.UnknownValueError: \n",
    "        print(\"Google Speech Recognition could not understand audio\") \n",
    "      \n",
    "    except sr.RequestError as e: \n",
    "        print(\"Could not request results from Google Speech Recognition service; {0}\".format(e)) \n",
    "        \n",
    "import webbrowser\n",
    "#search_terms = []\n",
    "commands=tokenize.sent_tokenize(text)\n",
    "print(commands)\n",
    "tokens = word_tokenize(text)\n",
    "location_commands=['where', 'location']\n",
    "direction_commands=['direction','go','directions']\n",
    "search_terms = commands\n",
    "# ... construct your list of search terms ...\n",
    "\n",
    "for term in search_terms:\n",
    "    if similar(tokens,location_commands)==True:\n",
    "        webbrowser.open('https://www.google.com/maps/search/' + term)\n",
    "    elif similar(tokens,direction_commands)==True:\n",
    "        #webbrowser.open('https://www.google.com/maps/dir/{},{}/'.format(lat,long)+ term)\n",
    "        webbrowser.open(\"https://www.google.com/maps/dir/33.0069467,-96.8201528/\".format(lat,long)+ term)\n",
    "    else:\n",
    "        url = \"https://www.google.com.tr/search?q={}\".format(term)\n",
    "        webbrowser.open_new_tab(url)"
   ]
  },
  {
   "cell_type": "code",
   "execution_count": 204,
   "metadata": {},
   "outputs": [
    {
     "name": "stdout",
     "output_type": "stream",
     "text": [
      "Say Something\n",
      "you said: where is the nearest Indian restaurant\n",
      "['where is the nearest Indian restaurant']\n"
     ]
    }
   ],
   "source": [
    "#use the microphone as source for input. Here, we also specify  \n",
    "#which device ID to specifically look for incase the microphone  \n",
    "#is not working, an error will pop up saying \"device_id undefined\" \n",
    "with sr.Microphone(device_index = device_id, sample_rate = sample_rate,  \n",
    "                        chunk_size = chunk_size) as source: \n",
    "    #wait for a second to let the recognizer adjust the  \n",
    "    #energy threshold based on the surrounding noise level \n",
    "    r.adjust_for_ambient_noise(source) \n",
    "    print (\"Say Something\")\n",
    "    #listens for the user's input \n",
    "    audio = r.listen(source) \n",
    "          \n",
    "    try: \n",
    "        text = r.recognize_google(audio) \n",
    "        print (\"you said: \" + text) \n",
    "      \n",
    "    #error occurs when google could not understand what was said \n",
    "      \n",
    "    except sr.UnknownValueError: \n",
    "        print(\"Google Speech Recognition could not understand audio\") \n",
    "      \n",
    "    except sr.RequestError as e: \n",
    "        print(\"Could not request results from Google Speech Recognition service; {0}\".format(e)) \n",
    "        \n",
    "import webbrowser\n",
    "#search_terms = []\n",
    "commands=tokenize.sent_tokenize(text)\n",
    "print(commands)\n",
    "tokens = word_tokenize(text)\n",
    "search_terms = commands\n",
    "# ... construct your list of search terms ...\n",
    "  \n",
    "vector1 = text_to_vector(text)\n",
    "#vector2 = text_to_vector(text2)\n",
    "\n",
    "#for com in loc_data:\n",
    "##    if get_cosine(text_to_vector(com),vector1)>0.2:\n",
    " #       print(11)\n",
    " #   else:\n",
    "#        print(12)\n",
    "dir_cosign=[] \n",
    "loc_cosign=[]\n",
    "for com in dir_data:\n",
    "        dir_cosign.append(get_cosine(text_to_vector(com),vector1))\n",
    "        for com in loc_data:\n",
    "            loc_cosign.append(get_cosine(text_to_vector(com),vector1))\n",
    "            \n",
    "for term in search_terms:\n",
    "    if max(dir_cosign)>max(loc_cosign) and max(dir_cosign)>0.2:\n",
    "        webbrowser.open('https://www.google.com/maps/dir/{},{}/'.format(lat,long)+ term)\n",
    "    elif max(dir_cosign)<max(loc_cosign) and max(loc_cosign)>0.2:\n",
    "        webbrowser.open('https://www.google.com/maps/search/' + term)\n",
    "    else:\n",
    "        url = \"https://www.google.com.tr/search?q={}\".format(term)\n",
    "        webbrowser.open_new_tab(url)"
   ]
  },
  {
   "cell_type": "code",
   "execution_count": 113,
   "metadata": {},
   "outputs": [
    {
     "name": "stdout",
     "output_type": "stream",
     "text": [
      "Say Something\n",
      "you said: hello\n"
     ]
    }
   ],
   "source": [
    "#use the microphone as source for input. Here, we also specify  \n",
    "#which device ID to specifically look for incase the microphone  \n",
    "#is not working, an error will pop up saying \"device_id undefined\" \n",
    "with sr.Microphone(device_index = device_id, sample_rate = sample_rate,  \n",
    "                        chunk_size = chunk_size) as source: \n",
    "    #wait for a second to let the recognizer adjust the  \n",
    "    #energy threshold based on the surrounding noise level \n",
    "    r.adjust_for_ambient_noise(source) \n",
    "    print (\"Say Something\")\n",
    "    #listens for the user's input \n",
    "    audio = r.listen(source) \n",
    "          \n",
    "    try: \n",
    "        text = r.recognize_google(audio) \n",
    "        print (\"you said: \" + text) \n",
    "      \n",
    "    #error occurs when google could not understand what was said \n",
    "      \n",
    "    except sr.UnknownValueError: \n",
    "        print(\"Google Speech Recognition could not understand audio\") \n",
    "      \n",
    "    except sr.RequestError as e: \n",
    "        print(\"Could not request results from Google Speech Recognition service; {0}\".format(e)) \n",
    "        \n",
    "import webbrowser\n",
    "#search_terms = []\n",
    "search_terms = [text]\n",
    "# ... construct your list of search terms ...\n",
    "\n",
    "for term in search_terms:\n",
    "    url = \"https://www.google.com.tr/search?q={}\".format(term)\n",
    "    chrome_browser = webbrowser.get(\"C:/Program Files (x86)/Google/Chrome/Application/chrome.exe %s\")\n",
    "    chrome_browser.open_new_tab(url)"
   ]
  },
  {
   "cell_type": "markdown",
   "metadata": {},
   "source": [
    "# Other"
   ]
  },
  {
   "cell_type": "code",
   "execution_count": 141,
   "metadata": {},
   "outputs": [
    {
     "data": {
      "text/plain": [
       "['Good morning Dr. Adams.', 'The patient is waiting for you in room number 3.']"
      ]
     },
     "execution_count": 141,
     "metadata": {},
     "output_type": "execute_result"
    }
   ],
   "source": [
    "from nltk import tokenize\n",
    "p = \"Good morning Dr. Adams. The patient is waiting for you in room number 3.\"\n",
    "\n",
    "tokenize.sent_tokenize(p)"
   ]
  },
  {
   "cell_type": "markdown",
   "metadata": {},
   "source": [
    "# Tests"
   ]
  },
  {
   "cell_type": "code",
   "execution_count": 209,
   "metadata": {},
   "outputs": [
    {
     "name": "stdout",
     "output_type": "stream",
     "text": [
      "[32.9689, -96.7991]\n"
     ]
    }
   ],
   "source": [
    "import geocoder\n",
    "g = geocoder.ip('me')\n",
    "my_loc=g.latlng\n",
    "print(my_loc)\n",
    "lat=my_loc[0]\n",
    "long=my_loc[1]"
   ]
  },
  {
   "cell_type": "code",
   "execution_count": 133,
   "metadata": {},
   "outputs": [
    {
     "data": {
      "text/plain": [
       "'https://www.google.com/maps/dir/dir/32.9689,-96.7991/'"
      ]
     },
     "execution_count": 133,
     "metadata": {},
     "output_type": "execute_result"
    }
   ],
   "source": [
    "string = \"https://www.google.com/maps/dir/dir/{},{}/\".format(lat, long)\n",
    "string"
   ]
  },
  {
   "cell_type": "code",
   "execution_count": 140,
   "metadata": {},
   "outputs": [],
   "source": [
    "commands=['Go to University of Texas at Dallas']\n",
    "search_terms = commands\n",
    "# ... construct your list of search terms ...\n",
    "for term in search_terms:\n",
    "    url = \"https://www.google.com.tr/search?q={}\".format(term)\n",
    "    chrome_browser = webbrowser.get(\"C:/Program Files (x86)/Google/Chrome/Application/chrome.exe %s\")\n",
    "    #webbrowser.open('https://www.google.com/maps/dir/{},{}/'.format(lat,long)+ term)\n",
    "    webbrowser.open(\"https://www.google.com/maps/dir/33.0069467,-96.8201528/\".format(lat,long)+ term) "
   ]
  },
  {
   "cell_type": "code",
   "execution_count": null,
   "metadata": {},
   "outputs": [],
   "source": [
    "#use the microphone as source for input. Here, we also specify  \n",
    "#which device ID to specifically look for incase the microphone  \n",
    "#is not working, an error will pop up saying \"device_id undefined\" \n",
    "with sr.Microphone(device_index = device_id, sample_rate = sample_rate,  \n",
    "                        chunk_size = chunk_size) as source: \n",
    "    #wait for a second to let the recognizer adjust the  \n",
    "    #energy threshold based on the surrounding noise level \n",
    "    r.adjust_for_ambient_noise(source) \n",
    "    print (\"Say Something\")\n",
    "    #listens for the user's input \n",
    "    audio = r.listen(source) \n",
    "          \n",
    "    try: \n",
    "        text = r.recognize_google(audio) \n",
    "        print (\"you said: \" + text) \n",
    "      \n",
    "    #error occurs when google could not understand what was said \n",
    "      \n",
    "    except sr.UnknownValueError: \n",
    "        print(\"Google Speech Recognition could not understand audio\") \n",
    "      \n",
    "    except sr.RequestError as e: \n",
    "        print(\"Could not request results from Google Speech Recognition service; {0}\".format(e)) \n",
    "        \n",
    "import webbrowser\n",
    "#search_terms = []\n",
    "commands=tokenize.sent_tokenize(text)\n",
    "print(commands)\n",
    "search_terms = commands\n",
    "# ... construct your list of search terms ...\n",
    "\n",
    "for term in search_terms:\n",
    "    \n",
    "    url = \"https://www.google.com.tr/search?q={}\".format(term)\n",
    "    #chrome_browser = webbrowser.get(\"C:/Program Files (x86)/Google/Chrome/Application/chrome.exe %s\")\n",
    "    #chrome_browser.open('https://www.google.com/maps/place/' + term) \n",
    "    #webbrowser.open_new_tab(url)\n",
    "    webbrowser.open('https://www.google.com/maps/place/' + term)"
   ]
  },
  {
   "cell_type": "code",
   "execution_count": 152,
   "metadata": {},
   "outputs": [
    {
     "name": "stdout",
     "output_type": "stream",
     "text": [
      "Say Something\n",
      "you said: hello\n",
      "['hello']\n"
     ]
    }
   ],
   "source": [
    "#use the microphone as source for input. Here, we also specify  \n",
    "#which device ID to specifically look for incase the microphone  \n",
    "#is not working, an error will pop up saying \"device_id undefined\" \n",
    "with sr.Microphone(device_index = device_id, sample_rate = sample_rate,  \n",
    "                        chunk_size = chunk_size) as source: \n",
    "    #wait for a second to let the recognizer adjust the  \n",
    "    #energy threshold based on the surrounding noise level \n",
    "    r.adjust_for_ambient_noise(source) \n",
    "    print (\"Say Something\")\n",
    "    #listens for the user's input \n",
    "    audio = r.listen(source) \n",
    "          \n",
    "    try: \n",
    "        text = r.recognize_google(audio) \n",
    "        print (\"you said: \" + text) \n",
    "      \n",
    "    #error occurs when google could not understand what was said \n",
    "      \n",
    "    except sr.UnknownValueError: \n",
    "        print(\"Google Speech Recognition could not understand audio\") \n",
    "      \n",
    "    except sr.RequestError as e: \n",
    "        print(\"Could not request results from Google Speech Recognition service; {0}\".format(e)) \n",
    "        \n",
    "import webbrowser\n",
    "#search_terms = []\n",
    "commands=tokenize.sent_tokenize(text)\n",
    "print(commands)\n",
    "search_terms = commands\n",
    "# ... construct your list of search terms ...\n",
    "a=4\n",
    "for term in search_terms:\n",
    "    if a==5:\n",
    "        webbrowser.open('https://www.google.com/maps/place/' + term)\n",
    "    elif a>1:\n",
    "        webbrowser.open('https://www.google.com/maps/dir/{},{}/'.format(lat,long)+ term)\n",
    "    else:\n",
    "        url = \"https://www.google.com.tr/search?q={}\".format(term)\n",
    "        webbrowser.open_new_tab(url)"
   ]
  },
  {
   "cell_type": "code",
   "execution_count": 161,
   "metadata": {},
   "outputs": [
    {
     "name": "stdout",
     "output_type": "stream",
     "text": [
      "['Where', 'is', 'the', 'Indian', 'restaurant']\n"
     ]
    }
   ],
   "source": [
    " from nltk.tokenize import word_tokenize\n",
    "def similar (a,b):\n",
    "    for i in a:\n",
    "        if i in b:\n",
    "            return True\n",
    "    return False \n",
    "\n",
    "text='Where is the Indian restaurant'\n",
    "tokens = word_tokenize(text)\n",
    "print(tokens)\n"
   ]
  },
  {
   "cell_type": "code",
   "execution_count": 160,
   "metadata": {},
   "outputs": [
    {
     "name": "stdout",
     "output_type": "stream",
     "text": [
      "11\n"
     ]
    }
   ],
   "source": [
    "location_commands=['where', 'location']\n",
    "direction_commands=['direction','go']\n",
    "search_terms = commands\n",
    "\n",
    "if similar(tokens,location_commands)==True:\n",
    "    print(11)\n",
    "elif similar(tokens,direction_commands)==True:\n",
    "    print(12)\n",
    "else:\n",
    "    print(13)"
   ]
  },
  {
   "cell_type": "code",
   "execution_count": 220,
   "metadata": {},
   "outputs": [
    {
     "name": "stdout",
     "output_type": "stream",
     "text": [
      "Cosine: 0.3651483716701107\n"
     ]
    }
   ],
   "source": [
    "import re, math\n",
    "from collections import Counter\n",
    "\n",
    "WORD = re.compile(r'\\w+')\n",
    "\n",
    "def get_cosine(vec1, vec2):\n",
    "     intersection = set(vec1.keys()) & set(vec2.keys())\n",
    "     numerator = sum([vec1[x] * vec2[x] for x in intersection])\n",
    "\n",
    "     sum1 = sum([vec1[x]**2 for x in vec1.keys()])\n",
    "     sum2 = sum([vec2[x]**2 for x in vec2.keys()])\n",
    "     denominator = math.sqrt(sum1) * math.sqrt(sum2)\n",
    "\n",
    "     if not denominator:\n",
    "        return 0.0\n",
    "     else:\n",
    "        return float(numerator) / denominator\n",
    "\n",
    "def text_to_vector(text):\n",
    "     words = WORD.findall(text)\n",
    "     return Counter(words)\n",
    "\n",
    "text1 = 'where is the nearest indian restaurant ali baba maman parinaz .'\n",
    "text2 = 'where is %s.'\n",
    "\n",
    "vector1 = text_to_vector(text1)\n",
    "vector2 = text_to_vector(text2)\n",
    "\n",
    "cosine = get_cosine(vector1, vector2)\n",
    "\n",
    "print ('Cosine:', cosine)"
   ]
  },
  {
   "cell_type": "code",
   "execution_count": 199,
   "metadata": {},
   "outputs": [
    {
     "name": "stdout",
     "output_type": "stream",
     "text": [
      "[0.0, 0.31622776601683794, 0.0, 0.0, 0.0, 0.0]\n",
      "[0.31622776601683794, 0.4472135954999579, 0.19999999999999996, 0.31622776601683794, 0.4472135954999579, 0.19999999999999996, 0.31622776601683794, 0.4472135954999579, 0.19999999999999996, 0.31622776601683794, 0.4472135954999579, 0.19999999999999996, 0.31622776601683794, 0.4472135954999579, 0.19999999999999996, 0.31622776601683794, 0.4472135954999579, 0.19999999999999996]\n"
     ]
    }
   ],
   "source": [
    "text1 = 'where is the indian restaurant'\n",
    "dir_data = ['Take me home','What is traffic like on the way home','Go to'\n",
    "'Find directions to.','How do I get to ?'\n",
    ",'Find out how long until you arrive.','How much does gas cost right now?']\n",
    "\n",
    "loc_data=['Where is','Where is the nearest','give me the location of']\n",
    "vector1 = text_to_vector(text1)\n",
    "#vector2 = text_to_vector(text2)\n",
    "\n",
    "#for com in loc_data:\n",
    "##    if get_cosine(text_to_vector(com),vector1)>0.2:\n",
    " #       print(11)\n",
    " #   else:\n",
    "#        print(12)\n",
    "dir_cosign=[] \n",
    "loc_cosign=[]\n",
    "for com in dir_data:\n",
    "        dir_cosign.append(get_cosine(text_to_vector(com),vector1))\n",
    "        for com in loc_data:\n",
    "            loc_cosign.append(get_cosine(text_to_vector(com),vector1))\n",
    "print(dir_cosign)\n",
    "print(loc_cosign)\n",
    "\n",
    "#cosine = get_cosine(vector1, vector2)\n",
    "\n",
    "#print ('Cosine:', cosine)"
   ]
  },
  {
   "cell_type": "code",
   "execution_count": null,
   "metadata": {},
   "outputs": [],
   "source": [
    "dir_cosign=[] \n",
    "loc_cosign=[]\n",
    "for com in loc_data:\n",
    "    if get_cosine(text_to_vector(com),vector1)>0.2:\n",
    "        die_cosign.append(get_cosine(text_to_vector(com),vector1))\n",
    "    else:"
   ]
  },
  {
   "cell_type": "code",
   "execution_count": 213,
   "metadata": {},
   "outputs": [
    {
     "name": "stdout",
     "output_type": "stream",
     "text": [
      "Say Something\n",
      "you said: where's the nearest Indian restaurant\n",
      "[\"where's the nearest Indian restaurant\"]\n"
     ]
    }
   ],
   "source": [
    "#use the microphone as source for input. Here, we also specify  \n",
    "#which device ID to specifically look for incase the microphone  \n",
    "#is not working, an error will pop up saying \"device_id undefined\" \n",
    "with sr.Microphone(device_index = device_id, sample_rate = sample_rate,  \n",
    "                        chunk_size = chunk_size) as source: \n",
    "    #wait for a second to let the recognizer adjust the  \n",
    "    #energy threshold based on the surrounding noise level \n",
    "    r.adjust_for_ambient_noise(source) \n",
    "    print (\"Say Something\")\n",
    "    #listens for the user's input \n",
    "    audio = r.listen(source) \n",
    "          \n",
    "    try: \n",
    "        text = r.recognize_google(audio) \n",
    "        print (\"you said: \" + text) \n",
    "      \n",
    "    #error occurs when google could not understand what was said \n",
    "      \n",
    "    except sr.UnknownValueError: \n",
    "        print(\"Google Speech Recognition could not understand audio\") \n",
    "      \n",
    "    except sr.RequestError as e: \n",
    "        print(\"Could not request results from Google Speech Recognition service; {0}\".format(e)) \n",
    "        \n",
    "import webbrowser\n",
    "#search_terms = []\n",
    "commands=tokenize.sent_tokenize(text)\n",
    "print(commands)\n",
    "tokens = word_tokenize(text)\n",
    "search_terms = commands\n",
    "# ... construct your list of search terms ...\n",
    "  \n",
    "dir_data = ['Take me home','What is traffic like on the way home','Go to'\n",
    "'Find directions to.','How do I get to ?'\n",
    ",'Find out how long until you arrive.']\n",
    "\n",
    "loc_data=['Where is','Where is the nearest','give me the location of']\n",
    "vector1 = text_to_vector(text)\n",
    "#vector2 = text_to_vector(text2)\n",
    "\n",
    "#for com in loc_data:\n",
    "##    if get_cosine(text_to_vector(com),vector1)>0.2:\n",
    " #       print(11)\n",
    " #   else:\n",
    "#        print(12)\n",
    "dir_cosign=[] \n",
    "loc_cosign=[]\n",
    "for com in dir_data:\n",
    "        dir_cosign.append(get_cosine(text_to_vector(com),vector1))\n",
    "        for com in loc_data:\n",
    "            loc_cosign.append(get_cosine(text_to_vector(com),vector1))\n",
    "            \n",
    "for term in search_terms:\n",
    "    if max(dir_cosign)>max(loc_cosign) and max(dir_cosign)>0.2:\n",
    "        webbrowser.open('https://www.google.com/maps/dir/{},{}/'.format(lat,long)+ term)\n",
    "    elif max(dir_cosign)<max(loc_cosign) and max(loc_cosign)>0.2:\n",
    "        webbrowser.open('https://www.google.com/maps/search/' + term)\n",
    "    else:\n",
    "        url = \"https://www.google.com.tr/search?q={}\".format(term)\n",
    "        webbrowser.open_new_tab(url)"
   ]
  }
 ],
 "metadata": {
  "kernelspec": {
   "display_name": "Python 3",
   "language": "python",
   "name": "python3"
  },
  "language_info": {
   "codemirror_mode": {
    "name": "ipython",
    "version": 3
   },
   "file_extension": ".py",
   "mimetype": "text/x-python",
   "name": "python",
   "nbconvert_exporter": "python",
   "pygments_lexer": "ipython3",
   "version": "3.6.5"
  }
 },
 "nbformat": 4,
 "nbformat_minor": 2
}
